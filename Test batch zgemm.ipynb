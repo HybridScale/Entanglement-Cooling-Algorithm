{
 "cells": [
  {
   "cell_type": "markdown",
   "metadata": {},
   "source": [
    "# Testing tensor contraction on a batch of matrices.\n",
    "<p>Program tests the parallel execution of a large number of matrix-matrix multiplications of tall-and-skinny matrices of the form</p>\n",
    "\n",
    "$\\Psi_{ik} \\times \\Psi^*_{ki}$\n",
    "\n",
    "<p>of dimension ($2^k, 2^{n-k}$) where $2 <= k <= n/2$. The goal is test which is the maximum $n$ for a given architecture that can be computed.\n",
    "The matrices are double complex. </p>\n",
    "\n",
    "The current operating dimension is $n = 12$ but the goal would be $23$.\n"
   ]
  },
  {
   "cell_type": "code",
   "execution_count": 1,
   "metadata": {},
   "outputs": [],
   "source": [
    "import numpy as np\n",
    "import sys\n",
    "import scipy.special\n",
    "import time"
   ]
  },
  {
   "cell_type": "markdown",
   "metadata": {},
   "source": [
    "**Fix parameters $n$ and $k$, compute the matrix size and the number of matrix products (matrix pairs) that has to be computed**"
   ]
  },
  {
   "cell_type": "code",
   "execution_count": 21,
   "metadata": {},
   "outputs": [
    {
     "name": "stdout",
     "output_type": "stream",
     "text": [
      "Number of matrices of size (8192 x 16384) is 20058300\n"
     ]
    }
   ],
   "source": [
    "n = 27\n",
    "k = 13\n",
    "num_rows = pow(2,k)\n",
    "num_cols = pow(2,n-k)\n",
    "num_matrices = scipy.special.comb(n, k, exact=True)\n",
    "print('Number of matrices of size (' + str(num_rows) + ' x ' + str(num_cols) + ') is ' + str(num_matrices))"
   ]
  },
  {
   "cell_type": "markdown",
   "metadata": {},
   "source": [
    "**Generate a complex matrix of dimension $2^k \\times 2^{n-k}$**"
   ]
  },
  {
   "cell_type": "code",
   "execution_count": 22,
   "metadata": {},
   "outputs": [],
   "source": [
    "A = np.empty([num_rows, num_cols], dtype=np.complex128)\n",
    "A.real = np.array(np.random.rand(num_rows, num_cols), dtype=np.float64)-0.5\n",
    "A.imag = np.array(np.random.rand(num_rows, num_cols), dtype=np.float64)-0.5"
   ]
  },
  {
   "cell_type": "markdown",
   "metadata": {},
   "source": [
    "**Compute matrix-matrix product of all matrix pairs**"
   ]
  },
  {
   "cell_type": "code",
   "execution_count": 4,
   "metadata": {},
   "outputs": [
    {
     "name": "stdout",
     "output_type": "stream",
     "text": [
      "Total time: 9.245614607003517 sec\n"
     ]
    }
   ],
   "source": [
    "tic = time.perf_counter()\n",
    "for iter in np.arange(num_matrices):\n",
    "    A.dot(A.transpose())\n",
    "toc = time.perf_counter()\n",
    "tot = toc - tic\n",
    "print('Total time: ' + str(tot) + ' sec')"
   ]
  },
  {
   "cell_type": "code",
   "execution_count": 5,
   "metadata": {},
   "outputs": [
    {
     "name": "stdout",
     "output_type": "stream",
     "text": [
      "/usr/bin/python3.6\n",
      "which: no python in (/usr/local/sbin:/usr/local/bin:/usr/sbin:/usr/bin)\n",
      "Defaulting to user installation because normal site-packages is not writeable\n",
      "Requirement already satisfied: pip in /home/jupiter/.local/lib/python3.6/site-packages (21.1.2)\n"
     ]
    }
   ],
   "source": [
    "print(sys.executable)\n",
    "!which python\n",
    "!{sys.executable} -m pip install --upgrade pip"
   ]
  },
  {
   "cell_type": "code",
   "execution_count": 6,
   "metadata": {},
   "outputs": [
    {
     "name": "stdout",
     "output_type": "stream",
     "text": [
      "Requirement already satisfied: dask[complete] in /home/jupiter/.local/lib/python3.6/site-packages (2021.3.0)\n",
      "Requirement already satisfied: pyyaml in /usr/local/lib64/python3.6/site-packages (from dask[complete]) (5.4.1)\n",
      "Requirement already satisfied: pandas>=0.25.0 in /usr/local/lib64/python3.6/site-packages (from dask[complete]) (1.1.5)\n",
      "Requirement already satisfied: numpy>=1.15.1 in /usr/local/lib64/python3.6/site-packages (from dask[complete]) (1.19.5)\n",
      "Requirement already satisfied: distributed>=2021.03.0 in /home/jupiter/.local/lib/python3.6/site-packages (from dask[complete]) (2021.3.0)\n",
      "Requirement already satisfied: partd>=0.3.10 in /home/jupiter/.local/lib/python3.6/site-packages (from dask[complete]) (1.2.0)\n",
      "Requirement already satisfied: bokeh!=2.0.0,>=1.0.0 in /home/jupiter/.local/lib/python3.6/site-packages (from dask[complete]) (2.3.2)\n",
      "Requirement already satisfied: fsspec>=0.6.0 in /home/jupiter/.local/lib/python3.6/site-packages (from dask[complete]) (2021.5.0)\n",
      "Requirement already satisfied: cloudpickle>=0.2.2 in /home/jupiter/.local/lib/python3.6/site-packages (from dask[complete]) (1.6.0)\n",
      "Requirement already satisfied: toolz>=0.8.2 in /home/jupiter/.local/lib/python3.6/site-packages (from dask[complete]) (0.11.1)\n",
      "Requirement already satisfied: typing-extensions>=3.7.4 in /usr/local/lib/python3.6/site-packages (from bokeh!=2.0.0,>=1.0.0->dask[complete]) (3.7.4.3)\n",
      "Requirement already satisfied: pillow>=7.1.0 in /usr/local/lib64/python3.6/site-packages (from bokeh!=2.0.0,>=1.0.0->dask[complete]) (8.2.0)\n",
      "Requirement already satisfied: packaging>=16.8 in /usr/local/lib/python3.6/site-packages (from bokeh!=2.0.0,>=1.0.0->dask[complete]) (20.9)\n",
      "Requirement already satisfied: Jinja2>=2.9 in /usr/local/lib/python3.6/site-packages (from bokeh!=2.0.0,>=1.0.0->dask[complete]) (2.11.3)\n",
      "Requirement already satisfied: tornado>=5.1 in /usr/local/lib64/python3.6/site-packages (from bokeh!=2.0.0,>=1.0.0->dask[complete]) (6.1)\n",
      "Requirement already satisfied: python-dateutil>=2.1 in /usr/local/lib/python3.6/site-packages (from bokeh!=2.0.0,>=1.0.0->dask[complete]) (2.8.1)\n",
      "Requirement already satisfied: tblib>=1.6.0 in /home/jupiter/.local/lib/python3.6/site-packages (from distributed>=2021.03.0->dask[complete]) (1.7.0)\n",
      "Requirement already satisfied: contextvars in /usr/local/lib/python3.6/site-packages (from distributed>=2021.03.0->dask[complete]) (2.4)\n",
      "Requirement already satisfied: psutil>=5.0 in /home/jupiter/.local/lib/python3.6/site-packages (from distributed>=2021.03.0->dask[complete]) (5.8.0)\n",
      "Requirement already satisfied: msgpack>=0.6.0 in /home/jupiter/.local/lib/python3.6/site-packages (from distributed>=2021.03.0->dask[complete]) (1.0.2)\n",
      "Requirement already satisfied: click>=6.6 in /home/jupiter/.local/lib/python3.6/site-packages (from distributed>=2021.03.0->dask[complete]) (8.0.1)\n",
      "Requirement already satisfied: setuptools in /usr/local/lib/python3.6/site-packages (from distributed>=2021.03.0->dask[complete]) (54.2.0)\n",
      "Requirement already satisfied: sortedcontainers!=2.0.0,!=2.0.1 in /home/jupiter/.local/lib/python3.6/site-packages (from distributed>=2021.03.0->dask[complete]) (2.4.0)\n",
      "Requirement already satisfied: zict>=0.1.3 in /home/jupiter/.local/lib/python3.6/site-packages (from distributed>=2021.03.0->dask[complete]) (2.0.0)\n",
      "Requirement already satisfied: importlib-metadata in /usr/local/lib/python3.6/site-packages (from click>=6.6->distributed>=2021.03.0->dask[complete]) (3.10.0)\n",
      "Requirement already satisfied: MarkupSafe>=0.23 in /usr/local/lib64/python3.6/site-packages (from Jinja2>=2.9->bokeh!=2.0.0,>=1.0.0->dask[complete]) (1.1.1)\n",
      "Requirement already satisfied: pyparsing>=2.0.2 in /usr/local/lib/python3.6/site-packages (from packaging>=16.8->bokeh!=2.0.0,>=1.0.0->dask[complete]) (2.4.7)\n",
      "Requirement already satisfied: pytz>=2017.2 in /usr/local/lib/python3.6/site-packages (from pandas>=0.25.0->dask[complete]) (2021.1)\n",
      "Requirement already satisfied: locket in /home/jupiter/.local/lib/python3.6/site-packages (from partd>=0.3.10->dask[complete]) (0.2.1)\n",
      "Requirement already satisfied: six>=1.5 in /usr/local/lib/python3.6/site-packages (from python-dateutil>=2.1->bokeh!=2.0.0,>=1.0.0->dask[complete]) (1.15.0)\n",
      "Requirement already satisfied: heapdict in /home/jupiter/.local/lib/python3.6/site-packages (from zict>=0.1.3->distributed>=2021.03.0->dask[complete]) (1.0.1)\n",
      "Requirement already satisfied: immutables>=0.9 in /usr/local/lib64/python3.6/site-packages (from contextvars->distributed>=2021.03.0->dask[complete]) (0.15)\n",
      "Requirement already satisfied: zipp>=0.5 in /usr/local/lib/python3.6/site-packages (from importlib-metadata->click>=6.6->distributed>=2021.03.0->dask[complete]) (3.4.1)\n"
     ]
    }
   ],
   "source": [
    "!{sys.executable} -m pip install --user \"dask[complete]\""
   ]
  },
  {
   "cell_type": "code",
   "execution_count": 27,
   "metadata": {},
   "outputs": [
    {
     "data": {
      "text/html": [
       "<table>\n",
       "<tr>\n",
       "<td>\n",
       "<table>\n",
       "  <thead>\n",
       "    <tr><td> </td><th> Array </th><th> Chunk </th></tr>\n",
       "  </thead>\n",
       "  <tbody>\n",
       "    <tr><th> Bytes </th><td> 2.15 GB </td> <td> 134.22 MB </td></tr>\n",
       "    <tr><th> Shape </th><td> (8192, 16384) </td> <td> (2048, 4096) </td></tr>\n",
       "    <tr><th> Count </th><td> 33 Tasks </td><td> 16 Chunks </td></tr>\n",
       "    <tr><th> Type </th><td> complex128 </td><td> numpy.ndarray </td></tr>\n",
       "  </tbody>\n",
       "</table>\n",
       "</td>\n",
       "<td>\n",
       "<svg width=\"170\" height=\"110\" style=\"stroke:rgb(0,0,0);stroke-width:1\" >\n",
       "\n",
       "  <!-- Horizontal lines -->\n",
       "  <line x1=\"0\" y1=\"0\" x2=\"120\" y2=\"0\" style=\"stroke-width:2\" />\n",
       "  <line x1=\"0\" y1=\"15\" x2=\"120\" y2=\"15\" />\n",
       "  <line x1=\"0\" y1=\"30\" x2=\"120\" y2=\"30\" />\n",
       "  <line x1=\"0\" y1=\"45\" x2=\"120\" y2=\"45\" />\n",
       "  <line x1=\"0\" y1=\"60\" x2=\"120\" y2=\"60\" style=\"stroke-width:2\" />\n",
       "\n",
       "  <!-- Vertical lines -->\n",
       "  <line x1=\"0\" y1=\"0\" x2=\"0\" y2=\"60\" style=\"stroke-width:2\" />\n",
       "  <line x1=\"30\" y1=\"0\" x2=\"30\" y2=\"60\" />\n",
       "  <line x1=\"60\" y1=\"0\" x2=\"60\" y2=\"60\" />\n",
       "  <line x1=\"90\" y1=\"0\" x2=\"90\" y2=\"60\" />\n",
       "  <line x1=\"120\" y1=\"0\" x2=\"120\" y2=\"60\" style=\"stroke-width:2\" />\n",
       "\n",
       "  <!-- Colored Rectangle -->\n",
       "  <polygon points=\"0.0,0.0 120.0,0.0 120.0,60.0 0.0,60.0\" style=\"fill:#ECB172A0;stroke-width:0\"/>\n",
       "\n",
       "  <!-- Text -->\n",
       "  <text x=\"60.000000\" y=\"80.000000\" font-size=\"1.0rem\" font-weight=\"100\" text-anchor=\"middle\" >16384</text>\n",
       "  <text x=\"140.000000\" y=\"30.000000\" font-size=\"1.0rem\" font-weight=\"100\" text-anchor=\"middle\" transform=\"rotate(-90,140.000000,30.000000)\">8192</text>\n",
       "</svg>\n",
       "</td>\n",
       "</tr>\n",
       "</table>"
      ],
      "text/plain": [
       "dask.array<rechunk-merge, shape=(8192, 16384), dtype=complex128, chunksize=(2048, 4096), chunktype=numpy.ndarray>"
      ]
     },
     "execution_count": 27,
     "metadata": {},
     "output_type": "execute_result"
    }
   ],
   "source": [
    "sys.path.append('/home/jupiter/.local/bin')\n",
    "\n",
    "import dask.array as da\n",
    "dask_A = da.asanyarray(A)\n",
    "dask_A = da.rechunk(dask_A)\n",
    "dask_A"
   ]
  },
  {
   "cell_type": "code",
   "execution_count": 21,
   "metadata": {},
   "outputs": [
    {
     "ename": "ModuleNotFoundError",
     "evalue": "No module named 'dask'",
     "output_type": "error",
     "traceback": [
      "\u001b[0;31m---------------------------------------------------------------------------\u001b[0m",
      "\u001b[0;31mModuleNotFoundError\u001b[0m                       Traceback (most recent call last)",
      "\u001b[0;32m<ipython-input-21-e66ce52099a4>\u001b[0m in \u001b[0;36m<module>\u001b[0;34m\u001b[0m\n\u001b[0;32m----> 1\u001b[0;31m \u001b[0;32mfrom\u001b[0m \u001b[0mdask\u001b[0m\u001b[0;34m.\u001b[0m\u001b[0mdistributed\u001b[0m \u001b[0;32mimport\u001b[0m \u001b[0mClient\u001b[0m\u001b[0;34m\u001b[0m\u001b[0;34m\u001b[0m\u001b[0m\n\u001b[0m\u001b[1;32m      2\u001b[0m \u001b[0mclient\u001b[0m \u001b[0;34m=\u001b[0m \u001b[0mClient\u001b[0m\u001b[0;34m(\u001b[0m\u001b[0;34m)\u001b[0m\u001b[0;34m\u001b[0m\u001b[0;34m\u001b[0m\u001b[0m\n\u001b[1;32m      3\u001b[0m \u001b[0;34m\u001b[0m\u001b[0m\n\u001b[1;32m      4\u001b[0m \u001b[0mtic\u001b[0m \u001b[0;34m=\u001b[0m \u001b[0mtime\u001b[0m\u001b[0;34m.\u001b[0m\u001b[0mperf_counter\u001b[0m\u001b[0;34m(\u001b[0m\u001b[0;34m)\u001b[0m\u001b[0;34m\u001b[0m\u001b[0;34m\u001b[0m\u001b[0m\n\u001b[1;32m      5\u001b[0m \u001b[0;34m\u001b[0m\u001b[0m\n",
      "\u001b[0;31mModuleNotFoundError\u001b[0m: No module named 'dask'"
     ]
    }
   ],
   "source": [
    "from dask.distributed import Client\n",
    "client = Client()\n",
    "\n",
    "tic = time.perf_counter()\n",
    "\n",
    "for iter in np.arange(num_matrices):\n",
    "    future = client.submit(A.dot(A.transpose()))\n",
    "toc = time.perf_counter()\n",
    "tot = toc - tic\n",
    "print('Total time: ' + str(tot) + ' sec')"
   ]
  },
  {
   "cell_type": "code",
   "execution_count": null,
   "metadata": {},
   "outputs": [],
   "source": []
  }
 ],
 "metadata": {
  "kernelspec": {
   "display_name": "Python 3",
   "language": "python",
   "name": "python3"
  },
  "language_info": {
   "codemirror_mode": {
    "name": "ipython",
    "version": 3
   },
   "file_extension": ".py",
   "mimetype": "text/x-python",
   "name": "python",
   "nbconvert_exporter": "python",
   "pygments_lexer": "ipython3",
   "version": "3.6.8"
  }
 },
 "nbformat": 4,
 "nbformat_minor": 4
}
