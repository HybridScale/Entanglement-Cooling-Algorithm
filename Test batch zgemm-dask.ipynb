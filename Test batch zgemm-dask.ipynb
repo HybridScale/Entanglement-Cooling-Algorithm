{
 "cells": [
  {
   "cell_type": "markdown",
   "metadata": {},
   "source": [
    "# Testing tensor contraction on a batch of matrices (large matrix).\n",
    "<p>Program tests the parallel execution of a large number of matrix-matrix multiplications of the form</p>\n",
    "\n",
    "$\\Psi_{ik} \\times \\Psi^*_{ik}$\n",
    "\n",
    "<p>of dimension ($2^k, 2^{n-k}$) where $2 <= k <= n/2$ and $\\Psi_{ik}\\in\\mathbb{C}^{k\\times n-k}$. \n",
    "\n",
    "Currently, the operating dimension is $n = 12$ but the goal is to reach $25$.\n",
    "\n",
    "The experiment consists of a large number ($10^3 - 10^4$) of Monte Carlo simulations (MCS) each performing up to $10^4$ steps.\n",
    "In each MCS in each step 2 matrix-matrix products of the matrices of the dimension $2^k \\times 2^{n-k}$ are computed.\n",
    "\n",
    "**<p>The aim of this notebook is to design and test a parallel algorithm to perform the above calculations.</p>**\n",
    "    "
   ]
  },
  {
   "cell_type": "markdown",
   "metadata": {},
   "source": [
    "## Parallelization strategy\n",
    "\n",
    "The parallelisation can be divided into 3 levels:\n",
    "\n",
    "**1<sup>st</sup> level** - Each MCS is performed independely of the other MCSs, thus all MCSs can be performed in parallel during one step (in one step two matrix-matrix multiplications are performed in each MCS)\n",
    "\n",
    "**2<sup>nd</sup> level** - In each step of a MCS two matrix-matrix multiplications are performed independently and can be performed in parallel\n",
    "\n",
    "**3<sup>rd</sup> level** - Parallel matrix-matrix product. For larger $n$ and $k$ close to $n/2$ the matrices become large and computation time increases. \n"
   ]
  },
  {
   "cell_type": "markdown",
   "metadata": {},
   "source": [
    "## Install required packages and import"
   ]
  },
  {
   "cell_type": "code",
   "execution_count": 1,
   "metadata": {},
   "outputs": [
    {
     "name": "stdout",
     "output_type": "stream",
     "text": [
      "/home/ddavidov/dask-virtenv/bin/python\n",
      "/home/ddavidov/dask-virtenv/bin/python\n",
      "Requirement already satisfied: pip in /home/ddavidov/dask-virtenv/lib/python3.6/site-packages (21.1.2)\n",
      "Requirement already satisfied: dask[complete] in /home/ddavidov/dask-virtenv/lib/python3.6/site-packages (2021.3.0)\n",
      "Requirement already satisfied: pyyaml in /home/ddavidov/dask-virtenv/lib/python3.6/site-packages (from dask[complete]) (5.4.1)\n",
      "Requirement already satisfied: numpy>=1.15.1 in /home/ddavidov/dask-virtenv/lib/python3.6/site-packages (from dask[complete]) (1.19.5)\n",
      "Requirement already satisfied: toolz>=0.8.2 in /home/ddavidov/dask-virtenv/lib/python3.6/site-packages (from dask[complete]) (0.11.1)\n",
      "Requirement already satisfied: bokeh!=2.0.0,>=1.0.0 in /home/ddavidov/dask-virtenv/lib/python3.6/site-packages (from dask[complete]) (2.3.2)\n",
      "Requirement already satisfied: distributed>=2021.03.0 in /home/ddavidov/dask-virtenv/lib/python3.6/site-packages (from dask[complete]) (2021.3.0)\n",
      "Requirement already satisfied: cloudpickle>=0.2.2 in /home/ddavidov/dask-virtenv/lib/python3.6/site-packages (from dask[complete]) (1.6.0)\n",
      "Requirement already satisfied: fsspec>=0.6.0 in /home/ddavidov/dask-virtenv/lib/python3.6/site-packages (from dask[complete]) (2021.5.0)\n",
      "Requirement already satisfied: partd>=0.3.10 in /home/ddavidov/dask-virtenv/lib/python3.6/site-packages (from dask[complete]) (1.2.0)\n",
      "Requirement already satisfied: pandas>=0.25.0 in /home/ddavidov/dask-virtenv/lib/python3.6/site-packages (from dask[complete]) (1.1.5)\n",
      "Requirement already satisfied: typing-extensions>=3.7.4 in /home/ddavidov/dask-virtenv/lib/python3.6/site-packages (from bokeh!=2.0.0,>=1.0.0->dask[complete]) (3.10.0.0)\n",
      "Requirement already satisfied: python-dateutil>=2.1 in /home/ddavidov/dask-virtenv/lib/python3.6/site-packages (from bokeh!=2.0.0,>=1.0.0->dask[complete]) (2.8.1)\n",
      "Requirement already satisfied: tornado>=5.1 in /home/ddavidov/dask-virtenv/lib/python3.6/site-packages (from bokeh!=2.0.0,>=1.0.0->dask[complete]) (6.1)\n",
      "Requirement already satisfied: Jinja2>=2.9 in /home/ddavidov/dask-virtenv/lib/python3.6/site-packages (from bokeh!=2.0.0,>=1.0.0->dask[complete]) (3.0.1)\n",
      "Requirement already satisfied: pillow>=7.1.0 in /home/ddavidov/dask-virtenv/lib/python3.6/site-packages (from bokeh!=2.0.0,>=1.0.0->dask[complete]) (8.2.0)\n",
      "Requirement already satisfied: packaging>=16.8 in /home/ddavidov/dask-virtenv/lib/python3.6/site-packages (from bokeh!=2.0.0,>=1.0.0->dask[complete]) (20.9)\n",
      "Requirement already satisfied: click>=6.6 in /home/ddavidov/dask-virtenv/lib/python3.6/site-packages (from distributed>=2021.03.0->dask[complete]) (8.0.1)\n",
      "Requirement already satisfied: zict>=0.1.3 in /home/ddavidov/dask-virtenv/lib/python3.6/site-packages (from distributed>=2021.03.0->dask[complete]) (2.0.0)\n",
      "Requirement already satisfied: contextvars in /home/ddavidov/dask-virtenv/lib/python3.6/site-packages (from distributed>=2021.03.0->dask[complete]) (2.4)\n",
      "Requirement already satisfied: psutil>=5.0 in /home/ddavidov/dask-virtenv/lib/python3.6/site-packages (from distributed>=2021.03.0->dask[complete]) (5.8.0)\n",
      "Requirement already satisfied: setuptools in /home/ddavidov/dask-virtenv/lib/python3.6/site-packages (from distributed>=2021.03.0->dask[complete]) (56.0.0)\n",
      "Requirement already satisfied: msgpack>=0.6.0 in /home/ddavidov/dask-virtenv/lib/python3.6/site-packages (from distributed>=2021.03.0->dask[complete]) (1.0.2)\n",
      "Requirement already satisfied: sortedcontainers!=2.0.0,!=2.0.1 in /home/ddavidov/dask-virtenv/lib/python3.6/site-packages (from distributed>=2021.03.0->dask[complete]) (2.4.0)\n",
      "Requirement already satisfied: tblib>=1.6.0 in /home/ddavidov/dask-virtenv/lib/python3.6/site-packages (from distributed>=2021.03.0->dask[complete]) (1.7.0)\n",
      "Requirement already satisfied: importlib-metadata in /home/ddavidov/dask-virtenv/lib/python3.6/site-packages (from click>=6.6->distributed>=2021.03.0->dask[complete]) (4.3.0)\n",
      "Requirement already satisfied: MarkupSafe>=2.0 in /home/ddavidov/dask-virtenv/lib/python3.6/site-packages (from Jinja2>=2.9->bokeh!=2.0.0,>=1.0.0->dask[complete]) (2.0.1)\n",
      "Requirement already satisfied: pyparsing>=2.0.2 in /home/ddavidov/dask-virtenv/lib/python3.6/site-packages (from packaging>=16.8->bokeh!=2.0.0,>=1.0.0->dask[complete]) (2.4.7)\n",
      "Requirement already satisfied: pytz>=2017.2 in /home/ddavidov/dask-virtenv/lib/python3.6/site-packages (from pandas>=0.25.0->dask[complete]) (2021.1)\n",
      "Requirement already satisfied: locket in /home/ddavidov/dask-virtenv/lib/python3.6/site-packages (from partd>=0.3.10->dask[complete]) (0.2.1)\n",
      "Requirement already satisfied: six>=1.5 in /home/ddavidov/dask-virtenv/lib/python3.6/site-packages (from python-dateutil>=2.1->bokeh!=2.0.0,>=1.0.0->dask[complete]) (1.16.0)\n",
      "Requirement already satisfied: heapdict in /home/ddavidov/dask-virtenv/lib/python3.6/site-packages (from zict>=0.1.3->distributed>=2021.03.0->dask[complete]) (1.0.1)\n",
      "Requirement already satisfied: immutables>=0.9 in /home/ddavidov/dask-virtenv/lib/python3.6/site-packages (from contextvars->distributed>=2021.03.0->dask[complete]) (0.15)\n",
      "Requirement already satisfied: zipp>=0.5 in /home/ddavidov/dask-virtenv/lib/python3.6/site-packages (from importlib-metadata->click>=6.6->distributed>=2021.03.0->dask[complete]) (3.4.1)\n",
      "Requirement already satisfied: graphviz in /home/ddavidov/dask-virtenv/lib/python3.6/site-packages (0.16)\n",
      "Requirement already satisfied: scipy in /home/ddavidov/dask-virtenv/lib/python3.6/site-packages (1.5.4)\n",
      "Requirement already satisfied: numpy>=1.14.5 in /home/ddavidov/dask-virtenv/lib/python3.6/site-packages (from scipy) (1.19.5)\n"
     ]
    }
   ],
   "source": [
    "import sys\n",
    "print(sys.executable)\n",
    "!which python\n",
    "!{sys.executable} -m pip install --upgrade pip\n",
    "!{sys.executable} -m pip install \"dask[complete]\"\n",
    "!{sys.executable} -m pip install \"graphviz\"\n",
    "!{sys.executable} -m pip install \"scipy\"\n",
    "#sys.path.append('/home/jupiter/.local/bin')"
   ]
  },
  {
   "cell_type": "code",
   "execution_count": 2,
   "metadata": {},
   "outputs": [],
   "source": [
    "import numpy as np\n",
    "import scipy.special\n",
    "import time\n",
    "import dask.array as da"
   ]
  },
  {
   "cell_type": "markdown",
   "metadata": {},
   "source": [
    "**Fix parameters $n$ and $k$, compute the matrix size and the number of matrix products (matrix pairs) that has to be computed**"
   ]
  },
  {
   "cell_type": "code",
   "execution_count": 3,
   "metadata": {},
   "outputs": [],
   "source": [
    "nMonteCarlo = np.power(10,3)\n",
    "nsteps = np.power(10,1)\n",
    "n = 25\n",
    "k = int(n/2)\n",
    "num_rows = pow(2,k)\n",
    "num_cols = pow(2,n-k)"
   ]
  },
  {
   "cell_type": "code",
   "execution_count": 4,
   "metadata": {},
   "outputs": [
    {
     "name": "stdout",
     "output_type": "stream",
     "text": [
      "Program parameters:\n",
      "Number of Monte Carlo simulations: 1000\n",
      "Number of steps per simulation: 10\n",
      "Parameters n = 25 k = 12\n",
      "Matrix size (2^k x 2^{n-k}) = 4096 x 8192\n"
     ]
    }
   ],
   "source": [
    "print('Program parameters:')\n",
    "print('Number of Monte Carlo simulations: ' + str(nMonteCarlo))\n",
    "print('Number of steps per simulation: ' + str(nsteps))\n",
    "print('Parameters n = ' + str(n) + ' k = ' + str(k))\n",
    "print('Matrix size (2^k x 2^{n-k}) = ' + str(num_rows) + ' x ' + str(num_cols))"
   ]
  },
  {
   "cell_type": "markdown",
   "metadata": {},
   "source": [
    "**Generate a complex matrix of dimension $2^k \\times 2^{n-k}$**"
   ]
  },
  {
   "cell_type": "code",
   "execution_count": 8,
   "metadata": {},
   "outputs": [],
   "source": [
    "!export OMP_NUM_THREADS=1\n",
    "!export MKL_NUM_THREADS=1\n",
    "!export OPENBLAS_NUM_THREADS=1\n",
    "A_real = da.random.random((num_rows, num_cols),chunks=(1024,1024))-0.5\n",
    "A_imag = da.random.random((num_rows, num_cols),chunks=(1024,1024))-0.5\n",
    "#A_real = da.random.random((num_rows, num_cols),chunks='auto')-0.5\n",
    "#A_imag = da.random.random((num_rows, num_cols),chunks='auto')-0.5\n",
    "A = A_real + A_imag*(0+1j)"
   ]
  },
  {
   "cell_type": "code",
   "execution_count": 9,
   "metadata": {},
   "outputs": [
    {
     "data": {
      "text/html": [
       "<table>\n",
       "<tr>\n",
       "<td>\n",
       "<table>\n",
       "  <thead>\n",
       "    <tr><td> </td><th> Array </th><th> Chunk </th></tr>\n",
       "  </thead>\n",
       "  <tbody>\n",
       "    <tr><th> Bytes </th><td> 536.87 MB </td> <td> 16.78 MB </td></tr>\n",
       "    <tr><th> Shape </th><td> (4096, 8192) </td> <td> (1024, 1024) </td></tr>\n",
       "    <tr><th> Count </th><td> 192 Tasks </td><td> 32 Chunks </td></tr>\n",
       "    <tr><th> Type </th><td> complex128 </td><td> numpy.ndarray </td></tr>\n",
       "  </tbody>\n",
       "</table>\n",
       "</td>\n",
       "<td>\n",
       "<svg width=\"170\" height=\"110\" style=\"stroke:rgb(0,0,0);stroke-width:1\" >\n",
       "\n",
       "  <!-- Horizontal lines -->\n",
       "  <line x1=\"0\" y1=\"0\" x2=\"120\" y2=\"0\" style=\"stroke-width:2\" />\n",
       "  <line x1=\"0\" y1=\"15\" x2=\"120\" y2=\"15\" />\n",
       "  <line x1=\"0\" y1=\"30\" x2=\"120\" y2=\"30\" />\n",
       "  <line x1=\"0\" y1=\"45\" x2=\"120\" y2=\"45\" />\n",
       "  <line x1=\"0\" y1=\"60\" x2=\"120\" y2=\"60\" style=\"stroke-width:2\" />\n",
       "\n",
       "  <!-- Vertical lines -->\n",
       "  <line x1=\"0\" y1=\"0\" x2=\"0\" y2=\"60\" style=\"stroke-width:2\" />\n",
       "  <line x1=\"15\" y1=\"0\" x2=\"15\" y2=\"60\" />\n",
       "  <line x1=\"30\" y1=\"0\" x2=\"30\" y2=\"60\" />\n",
       "  <line x1=\"45\" y1=\"0\" x2=\"45\" y2=\"60\" />\n",
       "  <line x1=\"60\" y1=\"0\" x2=\"60\" y2=\"60\" />\n",
       "  <line x1=\"75\" y1=\"0\" x2=\"75\" y2=\"60\" />\n",
       "  <line x1=\"90\" y1=\"0\" x2=\"90\" y2=\"60\" />\n",
       "  <line x1=\"105\" y1=\"0\" x2=\"105\" y2=\"60\" />\n",
       "  <line x1=\"120\" y1=\"0\" x2=\"120\" y2=\"60\" style=\"stroke-width:2\" />\n",
       "\n",
       "  <!-- Colored Rectangle -->\n",
       "  <polygon points=\"0.0,0.0 120.0,0.0 120.0,60.0 0.0,60.0\" style=\"fill:#ECB172A0;stroke-width:0\"/>\n",
       "\n",
       "  <!-- Text -->\n",
       "  <text x=\"60.000000\" y=\"80.000000\" font-size=\"1.0rem\" font-weight=\"100\" text-anchor=\"middle\" >8192</text>\n",
       "  <text x=\"140.000000\" y=\"30.000000\" font-size=\"1.0rem\" font-weight=\"100\" text-anchor=\"middle\" transform=\"rotate(-90,140.000000,30.000000)\">4096</text>\n",
       "</svg>\n",
       "</td>\n",
       "</tr>\n",
       "</table>"
      ],
      "text/plain": [
       "dask.array<add, shape=(4096, 8192), dtype=complex128, chunksize=(1024, 1024), chunktype=numpy.ndarray>"
      ]
     },
     "execution_count": 9,
     "metadata": {},
     "output_type": "execute_result"
    }
   ],
   "source": [
    "A[0:num_rows,0:num_cols]"
   ]
  },
  {
   "cell_type": "markdown",
   "metadata": {},
   "source": [
    "## Compute a matrix-matrix product - as regular np array"
   ]
  },
  {
   "cell_type": "markdown",
   "metadata": {},
   "source": [
    "**Convert dask A to numpy A**"
   ]
  },
  {
   "cell_type": "code",
   "execution_count": 7,
   "metadata": {},
   "outputs": [],
   "source": [
    "numpy_A = np.array(A)"
   ]
  },
  {
   "cell_type": "markdown",
   "metadata": {},
   "source": [
    "**Compute a $A \\times A^T$ - as a regular numpy array**"
   ]
  },
  {
   "cell_type": "code",
   "execution_count": 8,
   "metadata": {},
   "outputs": [
    {
     "name": "stdout",
     "output_type": "stream",
     "text": [
      "Total time (numpy): 4.801971063978272 sec\n"
     ]
    }
   ],
   "source": [
    "start = time.perf_counter()\n",
    "numpy_A.dot(numpy_A.transpose())\n",
    "numpy_A.dot(numpy_A.transpose())\n",
    "end = time.perf_counter()\n",
    "elapsed = end - start\n",
    "print('Total time (numpy): ' + str(elapsed) + ' sec')"
   ]
  },
  {
   "cell_type": "markdown",
   "metadata": {},
   "source": [
    "**Setup single-machine scheduler**"
   ]
  },
  {
   "cell_type": "code",
   "execution_count": 15,
   "metadata": {},
   "outputs": [
    {
     "data": {
      "text/plain": [
       "<dask.config.set at 0x7fe3007c9630>"
      ]
     },
     "execution_count": 15,
     "metadata": {},
     "output_type": "execute_result"
    }
   ],
   "source": [
    "import dask\n",
    "dask.config.set(scheduler='threads')\n",
    "\n",
    "#!export OMP_NUM_THREADS=1\n",
    "#!export MKL_NUM_THREADS=1\n",
    "#!export OPENBLAS_NUM_THREADS=1"
   ]
  },
  {
   "cell_type": "markdown",
   "metadata": {},
   "source": [
    "**Compute matrix product**"
   ]
  },
  {
   "cell_type": "code",
   "execution_count": 23,
   "metadata": {},
   "outputs": [
    {
     "name": "stdout",
     "output_type": "stream",
     "text": [
      "Total time (dask): 11.080421785009094 sec\n"
     ]
    }
   ],
   "source": [
    "C1 = A.dot(A.transpose())\n",
    "C2 = A.dot(A.transpose())\n",
    "\n",
    "start = time.perf_counter()\n",
    "#for iter in np.arange(num_matrices):\n",
    "C1.compute()\n",
    "C2.compute()\n",
    "\n",
    "end = time.perf_counter()\n",
    "elapsed = end - start\n",
    "print('Total time (dask): ' + str(elapsed) + ' sec')"
   ]
  },
  {
   "cell_type": "markdown",
   "metadata": {},
   "source": [
    "**Setup distributed scheduler**"
   ]
  },
  {
   "cell_type": "code",
   "execution_count": 10,
   "metadata": {},
   "outputs": [
    {
     "data": {
      "text/html": [
       "<table style=\"border: 2px solid white;\">\n",
       "<tr>\n",
       "<td style=\"vertical-align: top; border: 0px solid white\">\n",
       "<h3 style=\"text-align: left;\">Client</h3>\n",
       "<ul style=\"text-align: left; list-style: none; margin: 0; padding: 0;\">\n",
       "  <li><b>Scheduler: </b>inproc://10.210.112.40/9428/1</li>\n",
       "  <li><b>Dashboard: </b><a href='http://10.210.112.40:8787/status' target='_blank'>http://10.210.112.40:8787/status</a></li>\n",
       "</ul>\n",
       "</td>\n",
       "<td style=\"vertical-align: top; border: 0px solid white\">\n",
       "<h3 style=\"text-align: left;\">Cluster</h3>\n",
       "<ul style=\"text-align: left; list-style:none; margin: 0; padding: 0;\">\n",
       "  <li><b>Workers: </b>1</li>\n",
       "  <li><b>Cores: </b>12</li>\n",
       "  <li><b>Memory: </b>16.60 GB</li>\n",
       "</ul>\n",
       "</td>\n",
       "</tr>\n",
       "</table>"
      ],
      "text/plain": [
       "<Client: 'inproc://10.210.112.40/9428/1' processes=1 threads=12, memory=16.60 GB>"
      ]
     },
     "execution_count": 10,
     "metadata": {},
     "output_type": "execute_result"
    }
   ],
   "source": [
    "from dask.distributed import Client\n",
    "\n",
    "client = Client(processes=False)\n",
    "\n",
    "client"
   ]
  },
  {
   "cell_type": "code",
   "execution_count": 11,
   "metadata": {},
   "outputs": [
    {
     "name": "stdout",
     "output_type": "stream",
     "text": [
      "Total time (dask): 22.62793309101835 sec\n"
     ]
    }
   ],
   "source": [
    "#!export OMP_NUM_THREADS=1\n",
    "#!export MKL_NUM_THREADS=1\n",
    "#!export OPENBLAS_NUM_THREADS=1\n",
    "\n",
    "C1 = A.dot(A.transpose())\n",
    "C2 = A.dot(A.transpose())\n",
    "\n",
    "start = time.perf_counter()\n",
    "#for iter in np.arange(num_matrices):\n",
    "C1.compute()\n",
    "C2.compute()\n",
    "\n",
    "end = time.perf_counter()\n",
    "elapsed = end - start\n",
    "print('Total time (dask): ' + str(elapsed) + ' sec')"
   ]
  },
  {
   "cell_type": "code",
   "execution_count": 32,
   "metadata": {},
   "outputs": [],
   "source": [
    "client.close()"
   ]
  }
 ],
 "metadata": {
  "kernelspec": {
   "display_name": "Python 3",
   "language": "python",
   "name": "python3"
  },
  "language_info": {
   "codemirror_mode": {
    "name": "ipython",
    "version": 3
   },
   "file_extension": ".py",
   "mimetype": "text/x-python",
   "name": "python",
   "nbconvert_exporter": "python",
   "pygments_lexer": "ipython3",
   "version": "3.6.9"
  }
 },
 "nbformat": 4,
 "nbformat_minor": 4
}
